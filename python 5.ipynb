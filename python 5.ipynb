{
 "cells": [
  {
   "cell_type": "code",
   "execution_count": 1,
   "id": "09083dfe",
   "metadata": {},
   "outputs": [],
   "source": [
    "def eligibillityForMarriage():\n",
    "    gender=(input(\"Enter your gender:\"))\n",
    "    age=int(input(\"Enter your age:\"))\n",
    "    print(\"your gender:\",gender)\n",
    "    print(\"your age:\",age)\n",
    "    if(age>=21 and gender=='male'):\n",
    "        print(\"Elligible\")\n",
    "        ans=\"Elligible\"\n",
    "    elif(age>=18 and gender=='female'):\n",
    "        print(\"Elligible\")\n",
    "        ans=\"Elligible\"\n",
    "    else:\n",
    "        print(\"Not Elligible\")\n",
    "        ans=\"Not Elligible\"\n",
    "    return ans"
   ]
  },
  {
   "cell_type": "code",
   "execution_count": 2,
   "id": "7c24c105",
   "metadata": {},
   "outputs": [
    {
     "name": "stdout",
     "output_type": "stream",
     "text": [
      "Enter your gender:male\n",
      "Enter your age:20\n",
      "your gender: male\n",
      "your age: 20\n",
      "Not Elligible\n"
     ]
    }
   ],
   "source": [
    "ans=eligibillityForMarriage()"
   ]
  },
  {
   "cell_type": "code",
   "execution_count": 3,
   "id": "2c6dfa88",
   "metadata": {},
   "outputs": [],
   "source": [
    "def oddEven():\n",
    "    num=int(input(\"Enter the number:\"))\n",
    "    if(num%2==0):\n",
    "        print(\"{} is even number\".format(num))\n",
    "        ans=\"even\"\n",
    "    else:\n",
    "        print(\"{} is odd number\".format(num))\n",
    "        ans=\"odd\"\n",
    "    return ans"
   ]
  },
  {
   "cell_type": "code",
   "execution_count": 4,
   "id": "e8a82c88",
   "metadata": {},
   "outputs": [
    {
     "name": "stdout",
     "output_type": "stream",
     "text": [
      "Enter the number:52452\n",
      "52452 is even number\n"
     ]
    }
   ],
   "source": [
    "ans=oddEven()"
   ]
  },
  {
   "cell_type": "code",
   "execution_count": 5,
   "id": "372f4981",
   "metadata": {},
   "outputs": [],
   "source": [
    "def subFieldsInAI():\n",
    "    list=['machine learning','neural networks','vision','robotics','speech processing','natural language processing']\n",
    "    print(\"sub-fields in AI are:\")\n",
    "    for i in list:\n",
    "        print(i)\n",
    "    lst=['machine learning','neural networks','vision','robotics','speech processing','natural language processing']\n",
    "    return lst"
   ]
  },
  {
   "cell_type": "code",
   "execution_count": 6,
   "id": "6ff9d9f8",
   "metadata": {},
   "outputs": [
    {
     "name": "stdout",
     "output_type": "stream",
     "text": [
      "sub-fields in AI are:\n",
      "machine learning\n",
      "neural networks\n",
      "vision\n",
      "robotics\n",
      "speech processing\n",
      "natural language processing\n"
     ]
    }
   ],
   "source": [
    "lst=subFieldsInAI()"
   ]
  },
  {
   "cell_type": "code",
   "execution_count": 5,
   "id": "8120c65a",
   "metadata": {},
   "outputs": [],
   "source": [
    "def findPercent():\n",
    "    sub1=int(input(\"Enter the marks of sub1:\"))\n",
    "    sub2=int(input(\"Enter the marks of sub2:\"))\n",
    "    sub3=int(input(\"Enter the marks of sub3:\"))\n",
    "    sub4=int(input(\"Enter the marks of sub4:\"))\n",
    "    sub5=int(input(\"Enter the marks of sub5:\"))\n",
    "    total=sub1+sub2+sub3+sub4+sub5\n",
    "    print(\"TOTAL:\",total)\n",
    "    ans=total\n",
    "    percentage=total/5\n",
    "    print(\"PERCENTAGE:\",percentage)\n",
    "    ans=percentage\n",
    "    return ans"
   ]
  },
  {
   "cell_type": "code",
   "execution_count": 6,
   "id": "483e816c",
   "metadata": {},
   "outputs": [
    {
     "name": "stdout",
     "output_type": "stream",
     "text": [
      "Enter the marks of sub1:98\n",
      "Enter the marks of sub2:87\n",
      "Enter the marks of sub3:95\n",
      "Enter the marks of sub4:95\n",
      "Enter the marks of sub5:93\n",
      "TOTAL: 468\n",
      "PERCENTAGE: 93.6\n"
     ]
    }
   ],
   "source": [
    "ans=findPercent()"
   ]
  },
  {
   "cell_type": "code",
   "execution_count": 7,
   "id": "7a264f42",
   "metadata": {},
   "outputs": [],
   "source": [
    "def triangle():\n",
    "    height=int(input(\"Enter height:\"))\n",
    "    breadth=int(input(\"Enter breadth:\"))\n",
    "    print(\"Height:\",height)\n",
    "    ans=height\n",
    "    print(\"Breadth:\",breadth)\n",
    "    ans=breadth\n",
    "    area=(height*breadth)/2\n",
    "    print(\"Area formula:(height*breadth)/2\")\n",
    "    print(\"Area of triangle:\",area)\n",
    "    ans=area\n",
    "    height1=int(input(\"Enter height1:\"))\n",
    "    height2=int(input(\"Enter height2:\"))\n",
    "    breadth=int(input(\"Enter breadth:\"))\n",
    "    print(\"Height1:\",height1)\n",
    "    ans=height1\n",
    "    print(\"Height2:\",height2)\n",
    "    ans=height2\n",
    "    print(\"Breadth:\",breadth)\n",
    "    ans=breadth\n",
    "    perimeter=height1+height2+breadth\n",
    "    print(\"Perimeter formula:height1+height2+breadth\")\n",
    "    print(\"perimeter of triangle:\",perimeter)\n",
    "    ans=perimeter\n",
    "    return ans"
   ]
  },
  {
   "cell_type": "code",
   "execution_count": 8,
   "id": "8ac70a01",
   "metadata": {},
   "outputs": [
    {
     "name": "stdout",
     "output_type": "stream",
     "text": [
      "Enter height:32\n",
      "Enter breadth:34\n",
      "Height: 32\n",
      "Breadth: 34\n",
      "Area formula:(height*breadth)/2\n",
      "Area of triangle: 544.0\n",
      "Enter height1:2\n",
      "Enter height2:4\n",
      "Enter breadth:4\n",
      "Height1: 2\n",
      "Height2: 4\n",
      "Breadth: 4\n",
      "Perimeter formula:height1+height2+breadth\n",
      "perimeter of triangle: 10\n"
     ]
    }
   ],
   "source": [
    "ans=triangle()"
   ]
  },
  {
   "cell_type": "code",
   "execution_count": null,
   "id": "ad093721",
   "metadata": {},
   "outputs": [],
   "source": []
  }
 ],
 "metadata": {
  "kernelspec": {
   "display_name": "Python 3 (ipykernel)",
   "language": "python",
   "name": "python3"
  },
  "language_info": {
   "codemirror_mode": {
    "name": "ipython",
    "version": 3
   },
   "file_extension": ".py",
   "mimetype": "text/x-python",
   "name": "python",
   "nbconvert_exporter": "python",
   "pygments_lexer": "ipython3",
   "version": "3.10.9"
  }
 },
 "nbformat": 4,
 "nbformat_minor": 5
}
